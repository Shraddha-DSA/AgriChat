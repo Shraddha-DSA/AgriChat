{
 "cells": [
  {
   "cell_type": "code",
   "execution_count": null,
   "id": "229f74d8-089b-41fe-8ac1-51a479ecaccb",
   "metadata": {},
   "outputs": [
    {
     "name": "stdout",
     "output_type": "stream",
     "text": [
      "Chatbot: Hello! I can help with basic agricultural questions. Type 'bye' to exit.\n"
     ]
    },
    {
     "name": "stdout",
     "output_type": "stream",
     "text": [
      "You:  Hii\n"
     ]
    },
    {
     "name": "stdout",
     "output_type": "stream",
     "text": [
      "Chatbot: I'm sorry, I don't have an answer for that. Can you ask something else?\n"
     ]
    },
    {
     "name": "stdout",
     "output_type": "stream",
     "text": [
      "You:  Define crop rotation\n"
     ]
    },
    {
     "name": "stdout",
     "output_type": "stream",
     "text": [
      "Chatbot: Crop rotation is the practice of growing different types of crops in the same area in sequential seasons. It helps improve soil fertility and reduces soil erosion.\n"
     ]
    },
    {
     "name": "stdout",
     "output_type": "stream",
     "text": [
      "You:  Brief sustainable agriculture\n"
     ]
    },
    {
     "name": "stdout",
     "output_type": "stream",
     "text": [
      "Chatbot: Sustainable agriculture involves farming practices that meet current food needs without compromising the ability of future generations to meet their own needs. It focuses on environmental health, economic profitability, and social equity.\n"
     ]
    },
    {
     "name": "stdout",
     "output_type": "stream",
     "text": [
      "You:  Bye\n"
     ]
    },
    {
     "name": "stdout",
     "output_type": "stream",
     "text": [
      "Chatbot: Goodbye! Have a great day!\n"
     ]
    }
   ],
   "source": [
    "import nltk\n",
    "import string\n",
    "from sklearn.feature_extraction.text import TfidfVectorizer\n",
    "\n",
    "\n",
    "qa_dict = {\n",
    "    \"what is crop rotation\": \"Crop rotation is the practice of growing different types of crops in the same area in sequential seasons. It helps improve soil fertility and reduces soil erosion.\",\n",
    "    \"what is organic farming\": \"Organic farming is a method of farming that uses natural fertilizers and pest control methods instead of synthetic chemicals to grow crops.\",\n",
    "    \"how can i improve soil fertility\": \"You can improve soil fertility by adding organic matter, such as compost or manure, practicing crop rotation, and reducing chemical use.\",\n",
    "    \"what is precision farming\": \"Precision farming is a modern agricultural technique that uses technology like GPS and sensors to optimize crop production and resource usage.\",\n",
    "    \"what are common pests in agriculture\": \"Common agricultural pests include aphids, caterpillars, weevils, and locusts. They can damage crops and reduce yields.\",\n",
    "    \"how can i control pests naturally\": \"Natural pest control methods include using companion planting, introducing beneficial insects like ladybugs, and using organic sprays.\",\n",
    "    \"what equipment do i need for farming\": \"Essential farming equipment includes tractors, plows, seed drills, harvesters, and irrigation tools.\",\n",
    "    \"what is sustainable agriculture\": \"Sustainable agriculture involves farming practices that meet current food needs without compromising the ability of future generations to meet their own needs. It focuses on environmental health, economic profitability, and social equity.\"\n",
    "}\n",
    "\n",
    "\n",
    "def preprocess_input(user_input):\n",
    "    user_input = user_input.lower()\n",
    "    user_input = user_input.translate(str.maketrans('', '', string.punctuation))\n",
    "    return user_input\n",
    "\n",
    "\n",
    "def chatbot_response(user_input):\n",
    "    user_input = preprocess_input(user_input)\n",
    "    all_questions = list(qa_dict.keys())\n",
    "    \n",
    "    \n",
    "    vectorizer = TfidfVectorizer().fit(all_questions)\n",
    "    vectors = vectorizer.transform(all_questions + [user_input])\n",
    "    \n",
    "    \n",
    "    from sklearn.metrics.pairwise import cosine_similarity\n",
    "    similarities = cosine_similarity(vectors[-1], vectors[:-1]).flatten()\n",
    "    \n",
    "    \n",
    "    best_match_index = similarities.argmax()\n",
    "    best_match_score = similarities[best_match_index]\n",
    "    \n",
    "    if best_match_score > 0.3:  # Set a similarity threshold\n",
    "        return qa_dict[all_questions[best_match_index]]\n",
    "    else:\n",
    "        return \"I'm sorry, I don't have an answer for that. Can you ask something else?\"\n",
    "\n",
    "# Chat interface\n",
    "def chatbot():\n",
    "    print(\"Chatbot: Hello! I can help with basic agricultural questions. Type 'bye' to exit.\")\n",
    "    while True:\n",
    "        user_input = input(\"You: \")\n",
    "        if user_input.lower() == 'bye':\n",
    "            print(\"Chatbot: Goodbye! Have a great day!\")\n",
    "            break\n",
    "        else:\n",
    "            print(\"Chatbot:\", chatbot_response(user_input))\n",
    "\n",
    "\n",
    "if __name__ == \"__main__\":\n",
    "    chatbot()\n"
   ]
  },
  {
   "cell_type": "code",
   "execution_count": 2,
   "id": "e3c57ec7-0fb7-48fb-a93d-9cddb82cef1a",
   "metadata": {},
   "outputs": [
    {
     "name": "stdout",
     "output_type": "stream",
     "text": [
      "Collecting flask\n",
      "  Downloading flask-3.1.0-py3-none-any.whl.metadata (2.7 kB)\n",
      "Collecting flask-cors\n",
      "  Downloading Flask_Cors-5.0.0-py2.py3-none-any.whl.metadata (5.5 kB)\n",
      "Requirement already satisfied: requests in c:\\users\\shraddha\\appdata\\local\\programs\\python\\python313\\lib\\site-packages (2.32.3)\n",
      "Collecting python-dotenv\n",
      "  Downloading python_dotenv-1.0.1-py3-none-any.whl.metadata (23 kB)\n",
      "Collecting Werkzeug>=3.1 (from flask)\n",
      "  Downloading werkzeug-3.1.3-py3-none-any.whl.metadata (3.7 kB)\n",
      "Requirement already satisfied: Jinja2>=3.1.2 in c:\\users\\shraddha\\appdata\\local\\programs\\python\\python313\\lib\\site-packages (from flask) (3.1.4)\n",
      "Collecting itsdangerous>=2.2 (from flask)\n",
      "  Downloading itsdangerous-2.2.0-py3-none-any.whl.metadata (1.9 kB)\n",
      "Requirement already satisfied: click>=8.1.3 in c:\\users\\shraddha\\appdata\\local\\programs\\python\\python313\\lib\\site-packages (from flask) (8.1.8)\n",
      "Collecting blinker>=1.9 (from flask)\n",
      "  Downloading blinker-1.9.0-py3-none-any.whl.metadata (1.6 kB)\n",
      "Requirement already satisfied: charset-normalizer<4,>=2 in c:\\users\\shraddha\\appdata\\local\\programs\\python\\python313\\lib\\site-packages (from requests) (3.4.0)\n",
      "Requirement already satisfied: idna<4,>=2.5 in c:\\users\\shraddha\\appdata\\local\\programs\\python\\python313\\lib\\site-packages (from requests) (3.10)\n",
      "Requirement already satisfied: urllib3<3,>=1.21.1 in c:\\users\\shraddha\\appdata\\local\\programs\\python\\python313\\lib\\site-packages (from requests) (2.2.3)\n",
      "Requirement already satisfied: certifi>=2017.4.17 in c:\\users\\shraddha\\appdata\\local\\programs\\python\\python313\\lib\\site-packages (from requests) (2024.8.30)\n",
      "Requirement already satisfied: colorama in c:\\users\\shraddha\\appdata\\local\\programs\\python\\python313\\lib\\site-packages (from click>=8.1.3->flask) (0.4.6)\n",
      "Requirement already satisfied: MarkupSafe>=2.0 in c:\\users\\shraddha\\appdata\\local\\programs\\python\\python313\\lib\\site-packages (from Jinja2>=3.1.2->flask) (3.0.2)\n",
      "Downloading flask-3.1.0-py3-none-any.whl (102 kB)\n",
      "Downloading Flask_Cors-5.0.0-py2.py3-none-any.whl (14 kB)\n",
      "Downloading python_dotenv-1.0.1-py3-none-any.whl (19 kB)\n",
      "Downloading blinker-1.9.0-py3-none-any.whl (8.5 kB)\n",
      "Downloading itsdangerous-2.2.0-py3-none-any.whl (16 kB)\n",
      "Downloading werkzeug-3.1.3-py3-none-any.whl (224 kB)\n",
      "Installing collected packages: Werkzeug, python-dotenv, itsdangerous, blinker, flask, flask-cors\n",
      "Successfully installed Werkzeug-3.1.3 blinker-1.9.0 flask-3.1.0 flask-cors-5.0.0 itsdangerous-2.2.0 python-dotenv-1.0.1\n"
     ]
    },
    {
     "name": "stderr",
     "output_type": "stream",
     "text": [
      "\n",
      "[notice] A new release of pip is available: 24.2 -> 25.0\n",
      "[notice] To update, run: python.exe -m pip install --upgrade pip\n"
     ]
    }
   ],
   "source": [
    "!pip install flask flask-cors requests python-dotenv"
   ]
  },
  {
   "cell_type": "code",
   "execution_count": null,
   "id": "e8707416-09c3-4225-916f-5ef6cc64e5eb",
   "metadata": {},
   "outputs": [],
   "source": []
  }
 ],
 "metadata": {
  "kernelspec": {
   "display_name": "Python 3 (ipykernel)",
   "language": "python",
   "name": "python3"
  },
  "language_info": {
   "codemirror_mode": {
    "name": "ipython",
    "version": 3
   },
   "file_extension": ".py",
   "mimetype": "text/x-python",
   "name": "python",
   "nbconvert_exporter": "python",
   "pygments_lexer": "ipython3",
   "version": "3.13.0"
  }
 },
 "nbformat": 4,
 "nbformat_minor": 5
}
